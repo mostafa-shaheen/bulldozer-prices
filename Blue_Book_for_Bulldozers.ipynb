{
 "cells": [
  {
   "cell_type": "code",
   "execution_count": 0,
   "metadata": {
    "colab": {},
    "colab_type": "code",
    "id": "gXfMbMn_0qM9"
   },
   "outputs": [],
   "source": [
    " pip install fastai==0.7.0"
   ]
  },
  {
   "cell_type": "code",
   "execution_count": 0,
   "metadata": {
    "colab": {},
    "colab_type": "code",
    "id": "5iT0w5vu0LEl"
   },
   "outputs": [],
   "source": [
    "\n",
    "from fastai.imports import *\n",
    "from fastai.structured import *\n",
    "\n",
    "from pandas_summary import DataFrameSummary\n",
    "from sklearn.ensemble import RandomForestRegressor, RandomForestClassifier\n",
    "from IPython.display import display\n",
    "\n",
    "from sklearn import metrics"
   ]
  },
  {
   "cell_type": "code",
   "execution_count": 0,
   "metadata": {
    "colab": {},
    "colab_type": "code",
    "id": "OWHQvwJV4q6s"
   },
   "outputs": [],
   "source": [
    "!unzip bluebook-for-bulldozers.zip"
   ]
  },
  {
   "cell_type": "code",
   "execution_count": 0,
   "metadata": {
    "colab": {},
    "colab_type": "code",
    "id": "vq1HS1XH5VFo"
   },
   "outputs": [],
   "source": [
    "!unzip Train.zip"
   ]
  },
  {
   "cell_type": "code",
   "execution_count": 0,
   "metadata": {
    "colab": {},
    "colab_type": "code",
    "id": "lYNShnzz2P5E"
   },
   "outputs": [],
   "source": [
    "\n",
    "#PATH = \"data/bulldozers/\"\n",
    "df_raw = pd.read_csv('Train.csv', low_memory=False, \n",
    "                     parse_dates=[\"saledate\"])"
   ]
  },
  {
   "cell_type": "code",
   "execution_count": 0,
   "metadata": {
    "colab": {},
    "colab_type": "code",
    "id": "NkJLZdZ-5AaQ"
   },
   "outputs": [],
   "source": [
    "def display_all(df):\n",
    "    with pd.option_context(\"display.max_rows\", 1000, \"display.max_columns\", 1000): \n",
    "        display(df)"
   ]
  },
  {
   "cell_type": "code",
   "execution_count": 0,
   "metadata": {
    "colab": {},
    "colab_type": "code",
    "id": "k4hAjkrt5n-Q"
   },
   "outputs": [],
   "source": [
    "display_all(df_raw.SalePrice[:20])\n",
    "df_raw.SalePrice = np.log(df_raw.SalePrice) \n",
    "display_all(df_raw.SalePrice[:20])"
   ]
  },
  {
   "cell_type": "code",
   "execution_count": 0,
   "metadata": {
    "colab": {},
    "colab_type": "code",
    "id": "hwg5fP9Q5qL3"
   },
   "outputs": [],
   "source": [
    "display_all(df_raw.saledate[:20])"
   ]
  },
  {
   "cell_type": "code",
   "execution_count": 0,
   "metadata": {
    "colab": {
     "base_uri": "https://localhost:8080/",
     "height": 35
    },
    "colab_type": "code",
    "id": "Buid5emo7Sya",
    "outputId": "71b95352-45bd-40d4-cdb0-129cc33f4241"
   },
   "outputs": [
    {
     "data": {
      "text/plain": [
       "(401125, 53)"
      ]
     },
     "execution_count": 126,
     "metadata": {
      "tags": []
     },
     "output_type": "execute_result"
    }
   ],
   "source": [
    "df_raw.shape"
   ]
  },
  {
   "cell_type": "code",
   "execution_count": 0,
   "metadata": {
    "colab": {},
    "colab_type": "code",
    "id": "YgUoQ1Jc9Eyh"
   },
   "outputs": [],
   "source": [
    "add_datepart(df_raw,'saledate')"
   ]
  },
  {
   "cell_type": "code",
   "execution_count": 0,
   "metadata": {
    "colab": {
     "base_uri": "https://localhost:8080/",
     "height": 35
    },
    "colab_type": "code",
    "id": "rfESnH9N9Z9M",
    "outputId": "d305a57e-812e-4aa8-c203-ab452aa0a31e"
   },
   "outputs": [
    {
     "data": {
      "text/plain": [
       "(401125, 65)"
      ]
     },
     "execution_count": 128,
     "metadata": {
      "tags": []
     },
     "output_type": "execute_result"
    }
   ],
   "source": [
    "df_raw.shape"
   ]
  },
  {
   "cell_type": "code",
   "execution_count": 0,
   "metadata": {
    "colab": {
     "base_uri": "https://localhost:8080/",
     "height": 360
    },
    "colab_type": "code",
    "id": "wPaeF8t79a_L",
    "outputId": "e030c424-f550-44e4-878a-ee4d5ad51a8d"
   },
   "outputs": [
    {
     "data": {
      "text/html": [
       "<div>\n",
       "<style scoped>\n",
       "    .dataframe tbody tr th:only-of-type {\n",
       "        vertical-align: middle;\n",
       "    }\n",
       "\n",
       "    .dataframe tbody tr th {\n",
       "        vertical-align: top;\n",
       "    }\n",
       "\n",
       "    .dataframe thead th {\n",
       "        text-align: right;\n",
       "    }\n",
       "</style>\n",
       "<table border=\"1\" class=\"dataframe\">\n",
       "  <thead>\n",
       "    <tr style=\"text-align: right;\">\n",
       "      <th></th>\n",
       "      <th>SalesID</th>\n",
       "      <th>SalePrice</th>\n",
       "      <th>MachineID</th>\n",
       "      <th>ModelID</th>\n",
       "      <th>datasource</th>\n",
       "      <th>auctioneerID</th>\n",
       "      <th>YearMade</th>\n",
       "      <th>MachineHoursCurrentMeter</th>\n",
       "      <th>UsageBand</th>\n",
       "      <th>fiModelDesc</th>\n",
       "      <th>fiBaseModel</th>\n",
       "      <th>fiSecondaryDesc</th>\n",
       "      <th>fiModelSeries</th>\n",
       "      <th>fiModelDescriptor</th>\n",
       "      <th>ProductSize</th>\n",
       "      <th>fiProductClassDesc</th>\n",
       "      <th>state</th>\n",
       "      <th>ProductGroup</th>\n",
       "      <th>ProductGroupDesc</th>\n",
       "      <th>Drive_System</th>\n",
       "      <th>Enclosure</th>\n",
       "      <th>Forks</th>\n",
       "      <th>Pad_Type</th>\n",
       "      <th>Ride_Control</th>\n",
       "      <th>Stick</th>\n",
       "      <th>Transmission</th>\n",
       "      <th>Turbocharged</th>\n",
       "      <th>Blade_Extension</th>\n",
       "      <th>Blade_Width</th>\n",
       "      <th>Enclosure_Type</th>\n",
       "      <th>Engine_Horsepower</th>\n",
       "      <th>Hydraulics</th>\n",
       "      <th>Pushblock</th>\n",
       "      <th>Ripper</th>\n",
       "      <th>Scarifier</th>\n",
       "      <th>Tip_Control</th>\n",
       "      <th>Tire_Size</th>\n",
       "      <th>Coupler</th>\n",
       "      <th>Coupler_System</th>\n",
       "      <th>Grouser_Tracks</th>\n",
       "      <th>Hydraulics_Flow</th>\n",
       "      <th>Track_Type</th>\n",
       "      <th>Undercarriage_Pad_Width</th>\n",
       "      <th>Stick_Length</th>\n",
       "      <th>Thumb</th>\n",
       "      <th>Pattern_Changer</th>\n",
       "      <th>Grouser_Type</th>\n",
       "      <th>Backhoe_Mounting</th>\n",
       "      <th>Blade_Type</th>\n",
       "      <th>Travel_Controls</th>\n",
       "      <th>Differential_Type</th>\n",
       "      <th>Steering_Controls</th>\n",
       "      <th>saleYear</th>\n",
       "      <th>saleMonth</th>\n",
       "      <th>saleWeek</th>\n",
       "      <th>saleDay</th>\n",
       "      <th>saleDayofweek</th>\n",
       "      <th>saleDayofyear</th>\n",
       "      <th>saleIs_month_end</th>\n",
       "      <th>saleIs_month_start</th>\n",
       "      <th>saleIs_quarter_end</th>\n",
       "      <th>saleIs_quarter_start</th>\n",
       "      <th>saleIs_year_end</th>\n",
       "      <th>saleIs_year_start</th>\n",
       "      <th>saleElapsed</th>\n",
       "    </tr>\n",
       "  </thead>\n",
       "  <tbody>\n",
       "    <tr>\n",
       "      <th>0</th>\n",
       "      <td>1139246</td>\n",
       "      <td>11.097410</td>\n",
       "      <td>999089</td>\n",
       "      <td>3157</td>\n",
       "      <td>121</td>\n",
       "      <td>3.0</td>\n",
       "      <td>2004</td>\n",
       "      <td>68.0</td>\n",
       "      <td>Low</td>\n",
       "      <td>521D</td>\n",
       "      <td>521</td>\n",
       "      <td>D</td>\n",
       "      <td>NaN</td>\n",
       "      <td>NaN</td>\n",
       "      <td>NaN</td>\n",
       "      <td>Wheel Loader - 110.0 to 120.0 Horsepower</td>\n",
       "      <td>Alabama</td>\n",
       "      <td>WL</td>\n",
       "      <td>Wheel Loader</td>\n",
       "      <td>NaN</td>\n",
       "      <td>EROPS w AC</td>\n",
       "      <td>None or Unspecified</td>\n",
       "      <td>NaN</td>\n",
       "      <td>None or Unspecified</td>\n",
       "      <td>NaN</td>\n",
       "      <td>NaN</td>\n",
       "      <td>NaN</td>\n",
       "      <td>NaN</td>\n",
       "      <td>NaN</td>\n",
       "      <td>NaN</td>\n",
       "      <td>NaN</td>\n",
       "      <td>2 Valve</td>\n",
       "      <td>NaN</td>\n",
       "      <td>NaN</td>\n",
       "      <td>NaN</td>\n",
       "      <td>NaN</td>\n",
       "      <td>None or Unspecified</td>\n",
       "      <td>None or Unspecified</td>\n",
       "      <td>NaN</td>\n",
       "      <td>NaN</td>\n",
       "      <td>NaN</td>\n",
       "      <td>NaN</td>\n",
       "      <td>NaN</td>\n",
       "      <td>NaN</td>\n",
       "      <td>NaN</td>\n",
       "      <td>NaN</td>\n",
       "      <td>NaN</td>\n",
       "      <td>NaN</td>\n",
       "      <td>NaN</td>\n",
       "      <td>NaN</td>\n",
       "      <td>Standard</td>\n",
       "      <td>Conventional</td>\n",
       "      <td>2006</td>\n",
       "      <td>11</td>\n",
       "      <td>46</td>\n",
       "      <td>16</td>\n",
       "      <td>3</td>\n",
       "      <td>320</td>\n",
       "      <td>False</td>\n",
       "      <td>False</td>\n",
       "      <td>False</td>\n",
       "      <td>False</td>\n",
       "      <td>False</td>\n",
       "      <td>False</td>\n",
       "      <td>1163635200</td>\n",
       "    </tr>\n",
       "    <tr>\n",
       "      <th>1</th>\n",
       "      <td>1139248</td>\n",
       "      <td>10.950807</td>\n",
       "      <td>117657</td>\n",
       "      <td>77</td>\n",
       "      <td>121</td>\n",
       "      <td>3.0</td>\n",
       "      <td>1996</td>\n",
       "      <td>4640.0</td>\n",
       "      <td>Low</td>\n",
       "      <td>950FII</td>\n",
       "      <td>950</td>\n",
       "      <td>F</td>\n",
       "      <td>II</td>\n",
       "      <td>NaN</td>\n",
       "      <td>Medium</td>\n",
       "      <td>Wheel Loader - 150.0 to 175.0 Horsepower</td>\n",
       "      <td>North Carolina</td>\n",
       "      <td>WL</td>\n",
       "      <td>Wheel Loader</td>\n",
       "      <td>NaN</td>\n",
       "      <td>EROPS w AC</td>\n",
       "      <td>None or Unspecified</td>\n",
       "      <td>NaN</td>\n",
       "      <td>None or Unspecified</td>\n",
       "      <td>NaN</td>\n",
       "      <td>NaN</td>\n",
       "      <td>NaN</td>\n",
       "      <td>NaN</td>\n",
       "      <td>NaN</td>\n",
       "      <td>NaN</td>\n",
       "      <td>NaN</td>\n",
       "      <td>2 Valve</td>\n",
       "      <td>NaN</td>\n",
       "      <td>NaN</td>\n",
       "      <td>NaN</td>\n",
       "      <td>NaN</td>\n",
       "      <td>23.5</td>\n",
       "      <td>None or Unspecified</td>\n",
       "      <td>NaN</td>\n",
       "      <td>NaN</td>\n",
       "      <td>NaN</td>\n",
       "      <td>NaN</td>\n",
       "      <td>NaN</td>\n",
       "      <td>NaN</td>\n",
       "      <td>NaN</td>\n",
       "      <td>NaN</td>\n",
       "      <td>NaN</td>\n",
       "      <td>NaN</td>\n",
       "      <td>NaN</td>\n",
       "      <td>NaN</td>\n",
       "      <td>Standard</td>\n",
       "      <td>Conventional</td>\n",
       "      <td>2004</td>\n",
       "      <td>3</td>\n",
       "      <td>13</td>\n",
       "      <td>26</td>\n",
       "      <td>4</td>\n",
       "      <td>86</td>\n",
       "      <td>False</td>\n",
       "      <td>False</td>\n",
       "      <td>False</td>\n",
       "      <td>False</td>\n",
       "      <td>False</td>\n",
       "      <td>False</td>\n",
       "      <td>1080259200</td>\n",
       "    </tr>\n",
       "    <tr>\n",
       "      <th>2</th>\n",
       "      <td>1139249</td>\n",
       "      <td>9.210340</td>\n",
       "      <td>434808</td>\n",
       "      <td>7009</td>\n",
       "      <td>121</td>\n",
       "      <td>3.0</td>\n",
       "      <td>2001</td>\n",
       "      <td>2838.0</td>\n",
       "      <td>High</td>\n",
       "      <td>226</td>\n",
       "      <td>226</td>\n",
       "      <td>NaN</td>\n",
       "      <td>NaN</td>\n",
       "      <td>NaN</td>\n",
       "      <td>NaN</td>\n",
       "      <td>Skid Steer Loader - 1351.0 to 1601.0 Lb Operat...</td>\n",
       "      <td>New York</td>\n",
       "      <td>SSL</td>\n",
       "      <td>Skid Steer Loaders</td>\n",
       "      <td>NaN</td>\n",
       "      <td>OROPS</td>\n",
       "      <td>None or Unspecified</td>\n",
       "      <td>NaN</td>\n",
       "      <td>NaN</td>\n",
       "      <td>NaN</td>\n",
       "      <td>NaN</td>\n",
       "      <td>NaN</td>\n",
       "      <td>NaN</td>\n",
       "      <td>NaN</td>\n",
       "      <td>NaN</td>\n",
       "      <td>NaN</td>\n",
       "      <td>Auxiliary</td>\n",
       "      <td>NaN</td>\n",
       "      <td>NaN</td>\n",
       "      <td>NaN</td>\n",
       "      <td>NaN</td>\n",
       "      <td>NaN</td>\n",
       "      <td>None or Unspecified</td>\n",
       "      <td>None or Unspecified</td>\n",
       "      <td>None or Unspecified</td>\n",
       "      <td>Standard</td>\n",
       "      <td>NaN</td>\n",
       "      <td>NaN</td>\n",
       "      <td>NaN</td>\n",
       "      <td>NaN</td>\n",
       "      <td>NaN</td>\n",
       "      <td>NaN</td>\n",
       "      <td>NaN</td>\n",
       "      <td>NaN</td>\n",
       "      <td>NaN</td>\n",
       "      <td>NaN</td>\n",
       "      <td>NaN</td>\n",
       "      <td>2004</td>\n",
       "      <td>2</td>\n",
       "      <td>9</td>\n",
       "      <td>26</td>\n",
       "      <td>3</td>\n",
       "      <td>57</td>\n",
       "      <td>False</td>\n",
       "      <td>False</td>\n",
       "      <td>False</td>\n",
       "      <td>False</td>\n",
       "      <td>False</td>\n",
       "      <td>False</td>\n",
       "      <td>1077753600</td>\n",
       "    </tr>\n",
       "    <tr>\n",
       "      <th>3</th>\n",
       "      <td>1139251</td>\n",
       "      <td>10.558414</td>\n",
       "      <td>1026470</td>\n",
       "      <td>332</td>\n",
       "      <td>121</td>\n",
       "      <td>3.0</td>\n",
       "      <td>2001</td>\n",
       "      <td>3486.0</td>\n",
       "      <td>High</td>\n",
       "      <td>PC120-6E</td>\n",
       "      <td>PC120</td>\n",
       "      <td>NaN</td>\n",
       "      <td>-6E</td>\n",
       "      <td>NaN</td>\n",
       "      <td>Small</td>\n",
       "      <td>Hydraulic Excavator, Track - 12.0 to 14.0 Metr...</td>\n",
       "      <td>Texas</td>\n",
       "      <td>TEX</td>\n",
       "      <td>Track Excavators</td>\n",
       "      <td>NaN</td>\n",
       "      <td>EROPS w AC</td>\n",
       "      <td>NaN</td>\n",
       "      <td>NaN</td>\n",
       "      <td>NaN</td>\n",
       "      <td>NaN</td>\n",
       "      <td>NaN</td>\n",
       "      <td>NaN</td>\n",
       "      <td>NaN</td>\n",
       "      <td>NaN</td>\n",
       "      <td>NaN</td>\n",
       "      <td>NaN</td>\n",
       "      <td>2 Valve</td>\n",
       "      <td>NaN</td>\n",
       "      <td>NaN</td>\n",
       "      <td>NaN</td>\n",
       "      <td>NaN</td>\n",
       "      <td>NaN</td>\n",
       "      <td>None or Unspecified</td>\n",
       "      <td>NaN</td>\n",
       "      <td>NaN</td>\n",
       "      <td>NaN</td>\n",
       "      <td>NaN</td>\n",
       "      <td>NaN</td>\n",
       "      <td>NaN</td>\n",
       "      <td>NaN</td>\n",
       "      <td>NaN</td>\n",
       "      <td>NaN</td>\n",
       "      <td>NaN</td>\n",
       "      <td>NaN</td>\n",
       "      <td>NaN</td>\n",
       "      <td>NaN</td>\n",
       "      <td>NaN</td>\n",
       "      <td>2011</td>\n",
       "      <td>5</td>\n",
       "      <td>20</td>\n",
       "      <td>19</td>\n",
       "      <td>3</td>\n",
       "      <td>139</td>\n",
       "      <td>False</td>\n",
       "      <td>False</td>\n",
       "      <td>False</td>\n",
       "      <td>False</td>\n",
       "      <td>False</td>\n",
       "      <td>False</td>\n",
       "      <td>1305763200</td>\n",
       "    </tr>\n",
       "    <tr>\n",
       "      <th>4</th>\n",
       "      <td>1139253</td>\n",
       "      <td>9.305651</td>\n",
       "      <td>1057373</td>\n",
       "      <td>17311</td>\n",
       "      <td>121</td>\n",
       "      <td>3.0</td>\n",
       "      <td>2007</td>\n",
       "      <td>722.0</td>\n",
       "      <td>Medium</td>\n",
       "      <td>S175</td>\n",
       "      <td>S175</td>\n",
       "      <td>NaN</td>\n",
       "      <td>NaN</td>\n",
       "      <td>NaN</td>\n",
       "      <td>NaN</td>\n",
       "      <td>Skid Steer Loader - 1601.0 to 1751.0 Lb Operat...</td>\n",
       "      <td>New York</td>\n",
       "      <td>SSL</td>\n",
       "      <td>Skid Steer Loaders</td>\n",
       "      <td>NaN</td>\n",
       "      <td>EROPS</td>\n",
       "      <td>None or Unspecified</td>\n",
       "      <td>NaN</td>\n",
       "      <td>NaN</td>\n",
       "      <td>NaN</td>\n",
       "      <td>NaN</td>\n",
       "      <td>NaN</td>\n",
       "      <td>NaN</td>\n",
       "      <td>NaN</td>\n",
       "      <td>NaN</td>\n",
       "      <td>NaN</td>\n",
       "      <td>Auxiliary</td>\n",
       "      <td>NaN</td>\n",
       "      <td>NaN</td>\n",
       "      <td>NaN</td>\n",
       "      <td>NaN</td>\n",
       "      <td>NaN</td>\n",
       "      <td>None or Unspecified</td>\n",
       "      <td>None or Unspecified</td>\n",
       "      <td>None or Unspecified</td>\n",
       "      <td>Standard</td>\n",
       "      <td>NaN</td>\n",
       "      <td>NaN</td>\n",
       "      <td>NaN</td>\n",
       "      <td>NaN</td>\n",
       "      <td>NaN</td>\n",
       "      <td>NaN</td>\n",
       "      <td>NaN</td>\n",
       "      <td>NaN</td>\n",
       "      <td>NaN</td>\n",
       "      <td>NaN</td>\n",
       "      <td>NaN</td>\n",
       "      <td>2009</td>\n",
       "      <td>7</td>\n",
       "      <td>30</td>\n",
       "      <td>23</td>\n",
       "      <td>3</td>\n",
       "      <td>204</td>\n",
       "      <td>False</td>\n",
       "      <td>False</td>\n",
       "      <td>False</td>\n",
       "      <td>False</td>\n",
       "      <td>False</td>\n",
       "      <td>False</td>\n",
       "      <td>1248307200</td>\n",
       "    </tr>\n",
       "  </tbody>\n",
       "</table>\n",
       "</div>"
      ],
      "text/plain": [
       "   SalesID  SalePrice  MachineID  ModelID  datasource  auctioneerID  YearMade  \\\n",
       "0  1139246  11.097410     999089     3157         121           3.0      2004   \n",
       "1  1139248  10.950807     117657       77         121           3.0      1996   \n",
       "2  1139249   9.210340     434808     7009         121           3.0      2001   \n",
       "3  1139251  10.558414    1026470      332         121           3.0      2001   \n",
       "4  1139253   9.305651    1057373    17311         121           3.0      2007   \n",
       "\n",
       "   MachineHoursCurrentMeter UsageBand fiModelDesc fiBaseModel fiSecondaryDesc  \\\n",
       "0                      68.0       Low        521D         521               D   \n",
       "1                    4640.0       Low      950FII         950               F   \n",
       "2                    2838.0      High         226         226             NaN   \n",
       "3                    3486.0      High    PC120-6E       PC120             NaN   \n",
       "4                     722.0    Medium        S175        S175             NaN   \n",
       "\n",
       "  fiModelSeries fiModelDescriptor ProductSize  \\\n",
       "0           NaN               NaN         NaN   \n",
       "1            II               NaN      Medium   \n",
       "2           NaN               NaN         NaN   \n",
       "3           -6E               NaN       Small   \n",
       "4           NaN               NaN         NaN   \n",
       "\n",
       "                                  fiProductClassDesc           state  \\\n",
       "0           Wheel Loader - 110.0 to 120.0 Horsepower         Alabama   \n",
       "1           Wheel Loader - 150.0 to 175.0 Horsepower  North Carolina   \n",
       "2  Skid Steer Loader - 1351.0 to 1601.0 Lb Operat...        New York   \n",
       "3  Hydraulic Excavator, Track - 12.0 to 14.0 Metr...           Texas   \n",
       "4  Skid Steer Loader - 1601.0 to 1751.0 Lb Operat...        New York   \n",
       "\n",
       "  ProductGroup    ProductGroupDesc Drive_System   Enclosure  \\\n",
       "0           WL        Wheel Loader          NaN  EROPS w AC   \n",
       "1           WL        Wheel Loader          NaN  EROPS w AC   \n",
       "2          SSL  Skid Steer Loaders          NaN       OROPS   \n",
       "3          TEX    Track Excavators          NaN  EROPS w AC   \n",
       "4          SSL  Skid Steer Loaders          NaN       EROPS   \n",
       "\n",
       "                 Forks Pad_Type         Ride_Control Stick Transmission  \\\n",
       "0  None or Unspecified      NaN  None or Unspecified   NaN          NaN   \n",
       "1  None or Unspecified      NaN  None or Unspecified   NaN          NaN   \n",
       "2  None or Unspecified      NaN                  NaN   NaN          NaN   \n",
       "3                  NaN      NaN                  NaN   NaN          NaN   \n",
       "4  None or Unspecified      NaN                  NaN   NaN          NaN   \n",
       "\n",
       "  Turbocharged Blade_Extension Blade_Width Enclosure_Type Engine_Horsepower  \\\n",
       "0          NaN             NaN         NaN            NaN               NaN   \n",
       "1          NaN             NaN         NaN            NaN               NaN   \n",
       "2          NaN             NaN         NaN            NaN               NaN   \n",
       "3          NaN             NaN         NaN            NaN               NaN   \n",
       "4          NaN             NaN         NaN            NaN               NaN   \n",
       "\n",
       "  Hydraulics Pushblock Ripper Scarifier Tip_Control            Tire_Size  \\\n",
       "0    2 Valve       NaN    NaN       NaN         NaN  None or Unspecified   \n",
       "1    2 Valve       NaN    NaN       NaN         NaN                 23.5   \n",
       "2  Auxiliary       NaN    NaN       NaN         NaN                  NaN   \n",
       "3    2 Valve       NaN    NaN       NaN         NaN                  NaN   \n",
       "4  Auxiliary       NaN    NaN       NaN         NaN                  NaN   \n",
       "\n",
       "               Coupler       Coupler_System       Grouser_Tracks  \\\n",
       "0  None or Unspecified                  NaN                  NaN   \n",
       "1  None or Unspecified                  NaN                  NaN   \n",
       "2  None or Unspecified  None or Unspecified  None or Unspecified   \n",
       "3  None or Unspecified                  NaN                  NaN   \n",
       "4  None or Unspecified  None or Unspecified  None or Unspecified   \n",
       "\n",
       "  Hydraulics_Flow Track_Type Undercarriage_Pad_Width Stick_Length Thumb  \\\n",
       "0             NaN        NaN                     NaN          NaN   NaN   \n",
       "1             NaN        NaN                     NaN          NaN   NaN   \n",
       "2        Standard        NaN                     NaN          NaN   NaN   \n",
       "3             NaN        NaN                     NaN          NaN   NaN   \n",
       "4        Standard        NaN                     NaN          NaN   NaN   \n",
       "\n",
       "  Pattern_Changer Grouser_Type Backhoe_Mounting Blade_Type Travel_Controls  \\\n",
       "0             NaN          NaN              NaN        NaN             NaN   \n",
       "1             NaN          NaN              NaN        NaN             NaN   \n",
       "2             NaN          NaN              NaN        NaN             NaN   \n",
       "3             NaN          NaN              NaN        NaN             NaN   \n",
       "4             NaN          NaN              NaN        NaN             NaN   \n",
       "\n",
       "  Differential_Type Steering_Controls  saleYear  saleMonth  saleWeek  saleDay  \\\n",
       "0          Standard      Conventional      2006         11        46       16   \n",
       "1          Standard      Conventional      2004          3        13       26   \n",
       "2               NaN               NaN      2004          2         9       26   \n",
       "3               NaN               NaN      2011          5        20       19   \n",
       "4               NaN               NaN      2009          7        30       23   \n",
       "\n",
       "   saleDayofweek  saleDayofyear  saleIs_month_end  saleIs_month_start  \\\n",
       "0              3            320             False               False   \n",
       "1              4             86             False               False   \n",
       "2              3             57             False               False   \n",
       "3              3            139             False               False   \n",
       "4              3            204             False               False   \n",
       "\n",
       "   saleIs_quarter_end  saleIs_quarter_start  saleIs_year_end  \\\n",
       "0               False                 False            False   \n",
       "1               False                 False            False   \n",
       "2               False                 False            False   \n",
       "3               False                 False            False   \n",
       "4               False                 False            False   \n",
       "\n",
       "   saleIs_year_start  saleElapsed  \n",
       "0              False   1163635200  \n",
       "1              False   1080259200  \n",
       "2              False   1077753600  \n",
       "3              False   1305763200  \n",
       "4              False   1248307200  "
      ]
     },
     "metadata": {
      "tags": []
     },
     "output_type": "display_data"
    }
   ],
   "source": [
    "display_all(df_raw[:5])UsageBand"
   ]
  },
  {
   "cell_type": "code",
   "execution_count": 0,
   "metadata": {
    "colab": {},
    "colab_type": "code",
    "id": "4j0SOKnXXYYx"
   },
   "outputs": [],
   "source": [
    "train_cats(df_raw)"
   ]
  },
  {
   "cell_type": "code",
   "execution_count": 0,
   "metadata": {
    "colab": {},
    "colab_type": "code",
    "id": "DBwx7WEFeiLq"
   },
   "outputs": [],
   "source": [
    "df_raw.UsageBand.cat.set_categories(['High', 'Medium', 'Low'], ordered=True, inplace=True)"
   ]
  },
  {
   "cell_type": "code",
   "execution_count": 0,
   "metadata": {
    "colab": {},
    "colab_type": "code",
    "id": "VPpVCKU8arRV"
   },
   "outputs": [],
   "source": [
    "#df_raw.UsageBand = df_raw.UsageBand.cat.codes"
   ]
  },
  {
   "cell_type": "code",
   "execution_count": 0,
   "metadata": {
    "colab": {
     "base_uri": "https://localhost:8080/",
     "height": 233
    },
    "colab_type": "code",
    "id": "JO4RmQudIAL-",
    "outputId": "0b95e4ac-ad8c-4a50-8ef2-bb10fc85cfca"
   },
   "outputs": [
    {
     "data": {
      "text/plain": [
       "Backhoe_Mounting     0.803872\n",
       "Blade_Extension      0.937129\n",
       "Blade_Type           0.800977\n",
       "Blade_Width          0.937129\n",
       "Coupler              0.466620\n",
       "                       ...   \n",
       "saleIs_year_start    0.000000\n",
       "saleMonth            0.000000\n",
       "saleWeek             0.000000\n",
       "saleYear             0.000000\n",
       "state                0.000000\n",
       "Length: 65, dtype: float64"
      ]
     },
     "execution_count": 142,
     "metadata": {
      "tags": []
     },
     "output_type": "execute_result"
    }
   ],
   "source": [
    "df_raw.isnull().sum().sort_index()/len(df_raw)"
   ]
  },
  {
   "cell_type": "code",
   "execution_count": 0,
   "metadata": {
    "colab": {},
    "colab_type": "code",
    "id": "mJ2hQUkoIBH8"
   },
   "outputs": [],
   "source": [
    "df_raw.to_feather('/content/drive/My Drive/processed training data')"
   ]
  },
  {
   "cell_type": "code",
   "execution_count": 4,
   "metadata": {
    "colab": {
     "base_uri": "https://localhost:8080/",
     "height": 127
    },
    "colab_type": "code",
    "id": "tXayIPBDKWu_",
    "outputId": "f9f70d05-6846-4742-d906-7d2fc681bb2b"
   },
   "outputs": [
    {
     "name": "stdout",
     "output_type": "stream",
     "text": [
      "Go to this URL in a browser: https://accounts.google.com/o/oauth2/auth?client_id=947318989803-6bn6qk8qdgf4n4g3pfee6491hc0brc4i.apps.googleusercontent.com&redirect_uri=urn%3aietf%3awg%3aoauth%3a2.0%3aoob&response_type=code&scope=email%20https%3a%2f%2fwww.googleapis.com%2fauth%2fdocs.test%20https%3a%2f%2fwww.googleapis.com%2fauth%2fdrive%20https%3a%2f%2fwww.googleapis.com%2fauth%2fdrive.photos.readonly%20https%3a%2f%2fwww.googleapis.com%2fauth%2fpeopleapi.readonly\n",
      "\n",
      "Enter your authorization code:\n",
      "··········\n",
      "Mounted at /content/drive\n"
     ]
    }
   ],
   "source": [
    "from google.colab import drive\n",
    "drive.mount('/content/drive')"
   ]
  },
  {
   "cell_type": "code",
   "execution_count": 0,
   "metadata": {
    "colab": {},
    "colab_type": "code",
    "id": "ZkIRrF0zcxps"
   },
   "outputs": [],
   "source": [
    "df_raw  = pd.read_feather('/content/drive/My Drive/processed training data')"
   ]
  },
  {
   "cell_type": "code",
   "execution_count": 0,
   "metadata": {
    "colab": {},
    "colab_type": "code",
    "id": "qp9asC2WcyUl"
   },
   "outputs": [],
   "source": [
    "df_raw.UsageBand.cat.set_categories(['High', 'Medium', 'Low'], ordered=True, inplace=True)"
   ]
  },
  {
   "cell_type": "code",
   "execution_count": 0,
   "metadata": {
    "colab": {},
    "colab_type": "code",
    "id": "Fqv6L407LTj4"
   },
   "outputs": [],
   "source": [
    "X, Y, nas = proc_df(df_raw,'SalePrice')"
   ]
  },
  {
   "cell_type": "code",
   "execution_count": 0,
   "metadata": {
    "colab": {
     "base_uri": "https://localhost:8080/",
     "height": 199
    },
    "colab_type": "code",
    "id": "qa5jGoPaPZ14",
    "outputId": "dac9b686-d556-4fe3-de2b-e80ade9342b1"
   },
   "outputs": [
    {
     "name": "stderr",
     "output_type": "stream",
     "text": [
      "/usr/local/lib/python3.6/dist-packages/sklearn/ensemble/forest.py:245: FutureWarning: The default value of n_estimators will change from 10 in version 0.20 to 100 in 0.22.\n",
      "  \"10 in version 0.20 to 100 in 0.22.\", FutureWarning)\n"
     ]
    },
    {
     "data": {
      "text/plain": [
       "RandomForestRegressor(bootstrap=True, criterion='mse', max_depth=None,\n",
       "                      max_features='auto', max_leaf_nodes=None,\n",
       "                      min_impurity_decrease=0.0, min_impurity_split=None,\n",
       "                      min_samples_leaf=1, min_samples_split=2,\n",
       "                      min_weight_fraction_leaf=0.0, n_estimators=10, n_jobs=-1,\n",
       "                      oob_score=False, random_state=None, verbose=0,\n",
       "                      warm_start=False)"
      ]
     },
     "execution_count": 154,
     "metadata": {
      "tags": []
     },
     "output_type": "execute_result"
    }
   ],
   "source": [
    "m = RandomForestRegressor(n_jobs=-1)\n",
    "# The following code is supposed to fail due to string values in the input data\n",
    "m.fit(x_train, y_train)"
   ]
  },
  {
   "cell_type": "code",
   "execution_count": 0,
   "metadata": {
    "colab": {
     "base_uri": "https://localhost:8080/",
     "height": 35
    },
    "colab_type": "code",
    "id": "kaUN-0Vu-vP6",
    "outputId": "3dbc9b77-5a86-4d2a-df0b-feb21c9bb5dd"
   },
   "outputs": [
    {
     "data": {
      "text/plain": [
       "0.983064240635285"
      ]
     },
     "execution_count": 158,
     "metadata": {
      "tags": []
     },
     "output_type": "execute_result"
    }
   ],
   "source": [
    "m.score(X, Y)"
   ]
  },
  {
   "cell_type": "code",
   "execution_count": 0,
   "metadata": {
    "colab": {},
    "colab_type": "code",
    "id": "ueTI0m_jTypT"
   },
   "outputs": [],
   "source": [
    "def split_vals(a,n): return a[:n].copy(), a[n:].copy()\n",
    "\n",
    "n_valid = 12000  # same as Kaggle's test set size\n",
    "n_trn = len(df_raw)-n_valid"
   ]
  },
  {
   "cell_type": "code",
   "execution_count": 0,
   "metadata": {
    "colab": {
     "base_uri": "https://localhost:8080/",
     "height": 35
    },
    "colab_type": "code",
    "id": "L4xfTSEPMyZt",
    "outputId": "ae65ee1c-256c-4d62-8d19-630cfd2e5199"
   },
   "outputs": [
    {
     "data": {
      "text/plain": [
       "((389125, 66), (389125,), (12000, 66), (12000,))"
      ]
     },
     "execution_count": 7,
     "metadata": {
      "tags": []
     },
     "output_type": "execute_result"
    }
   ],
   "source": [
    "X_train, X_valid = split_vals(X, n_trn)\n",
    "y_train, y_valid = split_vals(Y, n_trn)\n",
    "\n",
    "X_train.shape, y_train.shape, X_valid.shape, y_valid.shape"
   ]
  },
  {
   "cell_type": "code",
   "execution_count": 0,
   "metadata": {
    "colab": {},
    "colab_type": "code",
    "id": "zD9lkB7vPFDV"
   },
   "outputs": [],
   "source": [
    "def rmse(x,y): return math.sqrt(((x-y)**2).mean())\n",
    "\n",
    "def print_score(m):\n",
    "    res = {'training RMSE  '   : rmse(m.predict(X_train), y_train), \n",
    "           'validation RMSE' : rmse(m.predict(X_valid), y_valid),\n",
    "           'training R2    '     : m.score(X_train, y_train), \n",
    "           'validation R2  '   : m.score(X_valid, y_valid),\n",
    "           'oob'             : 'none'}\n",
    "    if hasattr(m, 'oob_score_'): res['oob'] = m.oob_score_\n",
    "    for key in res:\n",
    "      print(key,':',res[key])\n"
   ]
  },
  {
   "cell_type": "code",
   "execution_count": 0,
   "metadata": {
    "colab": {
     "base_uri": "https://localhost:8080/",
     "height": 199
    },
    "colab_type": "code",
    "id": "vdPtKF-zRAx-",
    "outputId": "ccb91ced-d544-4267-98c2-18d9f0e1f216"
   },
   "outputs": [
    {
     "name": "stderr",
     "output_type": "stream",
     "text": [
      "/usr/local/lib/python3.6/dist-packages/sklearn/ensemble/forest.py:245: FutureWarning: The default value of n_estimators will change from 10 in version 0.20 to 100 in 0.22.\n",
      "  \"10 in version 0.20 to 100 in 0.22.\", FutureWarning)\n"
     ]
    },
    {
     "name": "stdout",
     "output_type": "stream",
     "text": [
      "CPU times: user 1min 39s, sys: 273 ms, total: 1min 40s\n",
      "Wall time: 51.1 s\n",
      "training RMSE   : 0.09074003681829416\n",
      "validation RMSE : 0.24687247216950178\n",
      "training R2     : 0.9827919076386794\n",
      "validation R2   : 0.8911588038107061\n",
      "oob : none\n"
     ]
    }
   ],
   "source": [
    "m = RandomForestRegressor(n_jobs=-1)\n",
    "%time m.fit(X_train, y_train)\n",
    "print_score(m)\n"
   ]
  },
  {
   "cell_type": "code",
   "execution_count": 0,
   "metadata": {
    "colab": {
     "base_uri": "https://localhost:8080/",
     "height": 143
    },
    "colab_type": "code",
    "id": "1xeHuatKfvC9",
    "outputId": "68669d41-294f-4b73-b44f-609c32a8ffe6"
   },
   "outputs": [
    {
     "data": {
      "text/plain": [
       "RandomForestRegressor(bootstrap=True, criterion='mse', max_depth=None,\n",
       "                      max_features='auto', max_leaf_nodes=None,\n",
       "                      min_impurity_decrease=0.0, min_impurity_split=None,\n",
       "                      min_samples_leaf=1, min_samples_split=2,\n",
       "                      min_weight_fraction_leaf=0.0, n_estimators=160, n_jobs=-1,\n",
       "                      oob_score=False, random_state=None, verbose=0,\n",
       "                      warm_start=False)"
      ]
     },
     "execution_count": 20,
     "metadata": {
      "tags": []
     },
     "output_type": "execute_result"
    }
   ],
   "source": [
    "m = RandomForestRegressor(n_estimators=160, n_jobs=-1)\n",
    "m.fit(X_train, y_train)\n"
   ]
  },
  {
   "cell_type": "code",
   "execution_count": 0,
   "metadata": {
    "colab": {
     "base_uri": "https://localhost:8080/",
     "height": 107
    },
    "colab_type": "code",
    "id": "KmAHmbrZkfLX",
    "outputId": "9fb39c47-a882-445e-9177-830a981b3a28"
   },
   "outputs": [
    {
     "name": "stdout",
     "output_type": "stream",
     "text": [
      "training RMSE   : 0.07497394775511201\n",
      "validation RMSE : 0.2341552660524582\n",
      "training R2     : 0.9882522259608307\n",
      "validation R2   : 0.9020835109787934\n",
      "oob : none\n"
     ]
    }
   ],
   "source": [
    "print_score(m)"
   ]
  },
  {
   "cell_type": "code",
   "execution_count": 0,
   "metadata": {
    "colab": {},
    "colab_type": "code",
    "id": "h7jGHjoImiMI"
   },
   "outputs": [],
   "source": [
    "preds = np.stack([t.predict(X_valid) for t in m.estimators_])\n",
    "preds[:,0], np.mean(preds[:,0]), y_valid[0]"
   ]
  },
  {
   "cell_type": "code",
   "execution_count": 0,
   "metadata": {
    "colab": {
     "base_uri": "https://localhost:8080/",
     "height": 265
    },
    "colab_type": "code",
    "id": "HnT0mhwVvdiN",
    "outputId": "59669ef3-dd68-4c6a-c108-149df702de30"
   },
   "outputs": [
    {
     "data": {
      "image/png": "[encoded data removed]",
      "text/plain": [
       "<Figure size 432x288 with 1 Axes>"
      ]
     },
     "metadata": {
      "tags": []
     },
     "output_type": "display_data"
    }
   ],
   "source": [
    "plt.plot([metrics.r2_score(y_valid, np.mean(preds[:i+1], axis=0)) for i in range(160)]);"
   ]
  },
  {
   "cell_type": "code",
   "execution_count": 0,
   "metadata": {
    "colab": {
     "base_uri": "https://localhost:8080/",
     "height": 107
    },
    "colab_type": "code",
    "id": "YD9dzQFQw46C",
    "outputId": "69348129-2868-434b-995b-3fa827f7e2ae"
   },
   "outputs": [
    {
     "name": "stdout",
     "output_type": "stream",
     "text": [
      "training RMSE   : 0.07683947342278231\n",
      "validation RMSE : 0.23597080796569467\n",
      "training R2     : 0.9876603288469681\n",
      "validation R2   : 0.9005592174988207\n",
      "oob : none\n"
     ]
    }
   ],
   "source": [
    "m60 = RandomForestRegressor(n_estimators=60, n_jobs=-1)\n",
    "m60.fit(X_train, y_train)\n",
    "print_score(m60)"
   ]
  },
  {
   "cell_type": "code",
   "execution_count": 0,
   "metadata": {
    "colab": {},
    "colab_type": "code",
    "id": "jhw6FxWbz0JP"
   },
   "outputs": [],
   "source": [
    "df_trn, y_trn, nas = proc_df(df_raw, 'SalePrice', subset=30000, na_dict=nas)\n",
    "X_train, _ = split_vals(df_trn, 20000)\n",
    "y_train, _ = split_vals(y_trn, 20000)"
   ]
  },
  {
   "cell_type": "code",
   "execution_count": 0,
   "metadata": {
    "colab": {
     "base_uri": "https://localhost:8080/",
     "height": 35
    },
    "colab_type": "code",
    "id": "wHldLFGbzqyE",
    "outputId": "5314239c-7846-47f4-91d6-e368a1edfa83"
   },
   "outputs": [
    {
     "data": {
      "text/plain": [
       "((389125, 66), (389125,), (12000, 66), (12000,))"
      ]
     },
     "execution_count": 47,
     "metadata": {
      "tags": []
     },
     "output_type": "execute_result"
    }
   ],
   "source": [
    "X_train.shape, y_train.shape, X_valid.shape, y_valid.shape"
   ]
  },
  {
   "cell_type": "code",
   "execution_count": 0,
   "metadata": {
    "colab": {
     "base_uri": "https://localhost:8080/",
     "height": 107
    },
    "colab_type": "code",
    "id": "fPFgj0Xl1EIG",
    "outputId": "8e070ab0-edf1-4c02-9bfb-ce25ad1d3617"
   },
   "outputs": [
    {
     "name": "stdout",
     "output_type": "stream",
     "text": [
      "training RMSE   : 0.09334323093268157\n",
      "validation RMSE : 0.34414233974397507\n",
      "training R2     : 0.9808148494481438\n",
      "validation R2   : 0.7884932713656249\n",
      "oob : none\n"
     ]
    }
   ],
   "source": [
    "m = RandomForestRegressor(n_estimators=100,n_jobs=-1)\n",
    "m.fit(X_train, y_train)\n",
    "print_score(m)"
   ]
  },
  {
   "cell_type": "code",
   "execution_count": 0,
   "metadata": {
    "colab": {
     "base_uri": "https://localhost:8080/",
     "height": 268
    },
    "colab_type": "code",
    "id": "haKDLcfn1ZHo",
    "outputId": "11100754-4bba-4690-96d4-3ff7200fa57e"
   },
   "outputs": [
    {
     "data": {
      "image/png": "[encoded data removed]",
      "text/plain": [
       "<Figure size 432x288 with 1 Axes>"
      ]
     },
     "metadata": {
      "tags": []
     },
     "output_type": "display_data"
    }
   ],
   "source": [
    "preds = np.stack([t.predict(X_valid) for t in m.estimators_])\n",
    "plt.plot([metrics.r2_score(y_valid, np.mean(preds[:i+1], axis=0)) for i in range(100)]);"
   ]
  },
  {
   "cell_type": "markdown",
   "metadata": {
    "colab_type": "text",
    "id": "snFbXHqPzGRf"
   },
   "source": [
    "## ###############      OOB       ##############"
   ]
  },
  {
   "cell_type": "code",
   "execution_count": 0,
   "metadata": {
    "colab": {
     "base_uri": "https://localhost:8080/",
     "height": 107
    },
    "colab_type": "code",
    "id": "MKuOA00-xcxy",
    "outputId": "8bf8b699-7423-4742-c6c7-b27622642cbc"
   },
   "outputs": [
    {
     "name": "stdout",
     "output_type": "stream",
     "text": [
      "training RMSE   : 0.09577036998024331\n",
      "validation RMSE : 0.34481673897686677\n",
      "training R2     : 0.97993224865518\n",
      "validation R2   : 0.7876634999518133\n",
      "oob : 0.8557487186955036\n"
     ]
    }
   ],
   "source": [
    "m60oob = RandomForestRegressor(n_estimators=60, n_jobs=-1, oob_score=True)\n",
    "m60oob.fit(X_train, y_train)\n",
    "print_score(m60oob)"
   ]
  },
  {
   "cell_type": "markdown",
   "metadata": {
    "colab_type": "text",
    "id": "jAtiBT1DW3nX"
   },
   "source": [
    "## !!!!!!!!!!!!!!!!!!!!!    reduce overfitting !!!!!!!!!!!!!!!!!!!!"
   ]
  },
  {
   "cell_type": "code",
   "execution_count": 0,
   "metadata": {
    "colab": {},
    "colab_type": "code",
    "id": "-YJYBcsL5JH-"
   },
   "outputs": [],
   "source": [
    "df_trn, y_trn, nas = proc_df(df_raw, 'SalePrice')\n",
    "X_train, X_valid = split_vals(df_trn, n_trn)\n",
    "y_train, y_valid = split_vals(y_trn, n_trn)"
   ]
  },
  {
   "cell_type": "code",
   "execution_count": 0,
   "metadata": {
    "colab": {},
    "colab_type": "code",
    "id": "hJ_4dFj00QG3"
   },
   "outputs": [],
   "source": [
    "set_rf_samples(20000)"
   ]
  },
  {
   "cell_type": "code",
   "execution_count": 0,
   "metadata": {
    "colab": {
     "base_uri": "https://localhost:8080/",
     "height": 107
    },
    "colab_type": "code",
    "id": "VWspGM9I4YlD",
    "outputId": "5279fea1-e03a-45f5-c2e2-f967fb084f2b"
   },
   "outputs": [
    {
     "name": "stdout",
     "output_type": "stream",
     "text": [
      "training RMSE   : 0.2268483345399826\n",
      "validation RMSE : 0.2615997552025817\n",
      "training R2     : 0.8924510892169446\n",
      "validation R2   : 0.8777855266902777\n",
      "oob : 0.8809429049326237\n"
     ]
    }
   ],
   "source": [
    "m50oob = RandomForestRegressor(n_estimators=50, n_jobs=-1, oob_score=True)\n",
    "m50oob.fit(X_train, y_train)\n",
    "print_score(m50oob)"
   ]
  },
  {
   "cell_type": "code",
   "execution_count": 0,
   "metadata": {
    "colab": {},
    "colab_type": "code",
    "id": "d3QqTjQdReSK"
   },
   "outputs": [],
   "source": [
    "def dectree_max_depth(tree):\n",
    "    children_left = tree.children_left\n",
    "    children_right = tree.children_right\n",
    "\n",
    "    def walk(node_id):\n",
    "        if (children_left[node_id] != children_right[node_id]):\n",
    "            left_max = 1 + walk(children_left[node_id])\n",
    "            right_max = 1 + walk(children_right[node_id])\n",
    "            return max(left_max, right_max)\n",
    "        else: # leaf\n",
    "            return 1\n",
    "\n",
    "    root_node_id = 0\n",
    "    return walk(root_node_id)\n"
   ]
  },
  {
   "cell_type": "code",
   "execution_count": 0,
   "metadata": {
    "colab": {
     "base_uri": "https://localhost:8080/",
     "height": 107
    },
    "colab_type": "code",
    "id": "gLhWwKMMUnDc",
    "outputId": "993a34f1-366e-4ae5-931a-fcc3cdbee1cc"
   },
   "outputs": [
    {
     "name": "stdout",
     "output_type": "stream",
     "text": [
      "training RMSE   : 0.2261823633568559\n",
      "validation RMSE : 0.2613114961565933\n",
      "training R2     : 0.8930816368428672\n",
      "validation R2   : 0.878054716679761\n",
      "oob : none\n"
     ]
    }
   ],
   "source": [
    "m = RandomForestRegressor(n_estimators=50,n_jobs=-1)\n",
    "m.fit(X_train, y_train)\n",
    "print_score(m)"
   ]
  },
  {
   "cell_type": "code",
   "execution_count": 0,
   "metadata": {
    "colab": {
     "base_uri": "https://localhost:8080/",
     "height": 55
    },
    "colab_type": "code",
    "id": "kCkJ6AO_UacY",
    "outputId": "42f13ec5-b919-4b06-98e3-b2a262f34949"
   },
   "outputs": [
    {
     "name": "stdout",
     "output_type": "stream",
     "text": [
      "36,37,36,35,36,35,33,33,34,33,35,33,33,33,32,36,32,33,37,36,36,33,33,33,36,40,33,31,34,33,34,36,33,34,35,37,34,33,35,36,33,36,35,35,33,35,33,38,37,34,"
     ]
    }
   ],
   "source": [
    "for treee in m.estimators_:\n",
    "  print(dectree_max_depth(treee.tree_),end=',')"
   ]
  },
  {
   "cell_type": "code",
   "execution_count": 0,
   "metadata": {
    "colab": {
     "base_uri": "https://localhost:8080/",
     "height": 145
    },
    "colab_type": "code",
    "id": "zI24dnAyVQe8",
    "outputId": "34665281-b83b-4a72-bdc9-bbf758ec8156"
   },
   "outputs": [
    {
     "name": "stdout",
     "output_type": "stream",
     "text": [
      "training RMSE   : 0.23775240440763806\n",
      "validation RMSE : 0.2652684033710398\n",
      "training R2     : 0.8818633472678453\n",
      "validation R2   : 0.8743336442982594\n",
      "oob : none\n",
      "28,27,26,25,26,26,25,30,24,27,29,26,25,26,28,31,25,26,26,26,26,25,27,26,27,25,27,27,24,26,30,25,25,26,26,25,24,26,27,26,25,27,26,26,25,28,26,24,26,26,"
     ]
    }
   ],
   "source": [
    "m = RandomForestRegressor(n_estimators=50,min_samples_leaf=5,n_jobs=-1)\n",
    "m.fit(X_train, y_train)\n",
    "print_score(m)\n",
    "for treee in m.estimators_:\n",
    "  print(dectree_max_depth(treee.tree_),end=',')"
   ]
  },
  {
   "cell_type": "code",
   "execution_count": 0,
   "metadata": {
    "colab": {
     "base_uri": "https://localhost:8080/",
     "height": 107
    },
    "colab_type": "code",
    "id": "HvRFDLtPWOnF",
    "outputId": "d8691e47-aef5-48f9-b4db-2d2edb6b2e37"
   },
   "outputs": [
    {
     "name": "stdout",
     "output_type": "stream",
     "text": [
      "training RMSE   : 0.1801033982874967\n",
      "validation RMSE : 0.24031385525666388\n",
      "training R2     : 0.9322079696818135\n",
      "validation R2   : 0.8968651134011386\n",
      "oob : 0.9023097430712895\n"
     ]
    }
   ],
   "source": [
    "set_rf_samples(200000)\n",
    "m = RandomForestRegressor(n_estimators=50, min_samples_leaf=3, n_jobs=-1, oob_score=True)\n",
    "m.fit(X_train, y_train)\n",
    "print_score(m)"
   ]
  },
  {
   "cell_type": "code",
   "execution_count": 0,
   "metadata": {
    "colab": {
     "base_uri": "https://localhost:8080/",
     "height": 107
    },
    "colab_type": "code",
    "id": "XNrwi26aXNo4",
    "outputId": "2e65c746-a46d-4769-beb1-df4cc60615ea"
   },
   "outputs": [
    {
     "name": "stdout",
     "output_type": "stream",
     "text": [
      "training RMSE   : 0.11435821668263065\n",
      "validation RMSE : 0.23361473700769672\n",
      "training R2     : 0.9726681156337927\n",
      "validation R2   : 0.902535054252584\n",
      "oob : 0.909724762223174\n"
     ]
    }
   ],
   "source": [
    "reset_rf_samples()\n",
    "m = RandomForestRegressor(n_estimators=50, min_samples_leaf=3, n_jobs=-1, oob_score=True)\n",
    "m.fit(X_train, y_train)\n",
    "print_score(m)"
   ]
  },
  {
   "cell_type": "code",
   "execution_count": 0,
   "metadata": {
    "colab": {
     "base_uri": "https://localhost:8080/",
     "height": 107
    },
    "colab_type": "code",
    "id": "tmtGG19LZ_GN",
    "outputId": "3375551e-b911-495d-ee04-f086fafe7751"
   },
   "outputs": [
    {
     "name": "stdout",
     "output_type": "stream",
     "text": [
      "training RMSE   : 0.11872174176560635\n",
      "validation RMSE : 0.22764758809122548\n",
      "training R2     : 0.9705425367115192\n",
      "validation R2   : 0.9074504991736266\n",
      "oob : 0.9127091538736473\n"
     ]
    }
   ],
   "source": [
    "m = RandomForestRegressor(n_estimators=50, min_samples_leaf=3,max_features=0.5, n_jobs=-1, oob_score=True)\n",
    "m.fit(X_train, y_train)\n",
    "print_score(m)"
   ]
  },
  {
   "cell_type": "markdown",
   "metadata": {
    "colab_type": "text",
    "id": "zAkcIj15o_6U"
   },
   "source": [
    "## **INTERPRETAION**"
   ]
  },
  {
   "cell_type": "markdown",
   "metadata": {
    "colab_type": "text",
    "id": "G6NC2QSApJQt"
   },
   "source": [
    "feature importance"
   ]
  },
  {
   "cell_type": "code",
   "execution_count": 0,
   "metadata": {
    "colab": {},
    "colab_type": "code",
    "id": "7f36U0MPUAxV"
   },
   "outputs": [],
   "source": [
    "set_rf_samples(50000)"
   ]
  },
  {
   "cell_type": "code",
   "execution_count": 16,
   "metadata": {
    "colab": {
     "base_uri": "https://localhost:8080/",
     "height": 107
    },
    "colab_type": "code",
    "id": "HuTxLOaQbqwR",
    "outputId": "2cd3f167-7312-49dc-8929-6b70a9915753"
   },
   "outputs": [
    {
     "name": "stdout",
     "output_type": "stream",
     "text": [
      "training RMSE   : 0.2050800423352056\n",
      "validation RMSE : 0.24824940960942488\n",
      "training R2     : 0.9121014678016683\n",
      "validation R2   : 0.8899412888593695\n",
      "oob : 0.8938488589002461\n"
     ]
    }
   ],
   "source": [
    "m = RandomForestRegressor(n_estimators=50, min_samples_leaf=3, n_jobs=-1, oob_score=True)\n",
    "m.fit(X_train, y_train)\n",
    "print_score(m)"
   ]
  },
  {
   "cell_type": "code",
   "execution_count": 17,
   "metadata": {
    "colab": {
     "base_uri": "https://localhost:8080/",
     "height": 107
    },
    "colab_type": "code",
    "id": "rWmHUkkvUhbK",
    "outputId": "d8ee4139-97b5-41fe-b5b4-5a993878ba8a"
   },
   "outputs": [
    {
     "name": "stdout",
     "output_type": "stream",
     "text": [
      "training RMSE   : 0.2050800423352056\n",
      "validation RMSE : 0.24824940960942488\n",
      "training R2     : 0.9121014678016683\n",
      "validation R2   : 0.8899412888593695\n",
      "oob : 0.8938488589002461\n"
     ]
    }
   ],
   "source": [
    "print_score(m)"
   ]
  },
  {
   "cell_type": "code",
   "execution_count": 18,
   "metadata": {
    "colab": {
     "base_uri": "https://localhost:8080/",
     "height": 359
    },
    "colab_type": "code",
    "id": "OxJxCUkFplC5",
    "outputId": "122c5a88-e060-4f86-85cc-a074e41d2f72"
   },
   "outputs": [
    {
     "data": {
      "text/html": [
       "<div>\n",
       "<style scoped>\n",
       "    .dataframe tbody tr th:only-of-type {\n",
       "        vertical-align: middle;\n",
       "    }\n",
       "\n",
       "    .dataframe tbody tr th {\n",
       "        vertical-align: top;\n",
       "    }\n",
       "\n",
       "    .dataframe thead th {\n",
       "        text-align: right;\n",
       "    }\n",
       "</style>\n",
       "<table border=\"1\" class=\"dataframe\">\n",
       "  <thead>\n",
       "    <tr style=\"text-align: right;\">\n",
       "      <th></th>\n",
       "      <th>cols</th>\n",
       "      <th>imp</th>\n",
       "    </tr>\n",
       "  </thead>\n",
       "  <tbody>\n",
       "    <tr>\n",
       "      <th>37</th>\n",
       "      <td>Coupler_System</td>\n",
       "      <td>0.204198</td>\n",
       "    </tr>\n",
       "    <tr>\n",
       "      <th>5</th>\n",
       "      <td>YearMade</td>\n",
       "      <td>0.182016</td>\n",
       "    </tr>\n",
       "    <tr>\n",
       "      <th>13</th>\n",
       "      <td>ProductSize</td>\n",
       "      <td>0.118145</td>\n",
       "    </tr>\n",
       "    <tr>\n",
       "      <th>14</th>\n",
       "      <td>fiProductClassDesc</td>\n",
       "      <td>0.103220</td>\n",
       "    </tr>\n",
       "    <tr>\n",
       "      <th>2</th>\n",
       "      <td>ModelID</td>\n",
       "      <td>0.090270</td>\n",
       "    </tr>\n",
       "    <tr>\n",
       "      <th>63</th>\n",
       "      <td>saleElapsed</td>\n",
       "      <td>0.074617</td>\n",
       "    </tr>\n",
       "    <tr>\n",
       "      <th>19</th>\n",
       "      <td>Enclosure</td>\n",
       "      <td>0.039018</td>\n",
       "    </tr>\n",
       "    <tr>\n",
       "      <th>10</th>\n",
       "      <td>fiSecondaryDesc</td>\n",
       "      <td>0.026372</td>\n",
       "    </tr>\n",
       "    <tr>\n",
       "      <th>8</th>\n",
       "      <td>fiModelDesc</td>\n",
       "      <td>0.025591</td>\n",
       "    </tr>\n",
       "    <tr>\n",
       "      <th>0</th>\n",
       "      <td>SalesID</td>\n",
       "      <td>0.024179</td>\n",
       "    </tr>\n",
       "  </tbody>\n",
       "</table>\n",
       "</div>"
      ],
      "text/plain": [
       "                  cols       imp\n",
       "37      Coupler_System  0.204198\n",
       "5             YearMade  0.182016\n",
       "13         ProductSize  0.118145\n",
       "14  fiProductClassDesc  0.103220\n",
       "2              ModelID  0.090270\n",
       "63         saleElapsed  0.074617\n",
       "19           Enclosure  0.039018\n",
       "10     fiSecondaryDesc  0.026372\n",
       "8          fiModelDesc  0.025591\n",
       "0              SalesID  0.024179"
      ]
     },
     "execution_count": 18,
     "metadata": {
      "tags": []
     },
     "output_type": "execute_result"
    }
   ],
   "source": [
    "fi = rf_feat_importance(m, df_trn); fi[:10]"
   ]
  },
  {
   "cell_type": "code",
   "execution_count": 19,
   "metadata": {
    "colab": {
     "base_uri": "https://localhost:8080/",
     "height": 466
    },
    "colab_type": "code",
    "id": "2logVbYTqfGN",
    "outputId": "11f20fd9-95b5-4ec4-d72c-617a27da7d41"
   },
   "outputs": [
    {
     "data": {
      "text/plain": [
       "<matplotlib.axes._subplots.AxesSubplot at 0x7fd2afff1f28>"
      ]
     },
     "execution_count": 19,
     "metadata": {
      "tags": []
     },
     "output_type": "execute_result"
    },
    {
     "data": {
      "image/png": "[encoded data removed]",
      "text/plain": [
       "<Figure size 864x504 with 1 Axes>"
      ]
     },
     "metadata": {
      "tags": []
     },
     "output_type": "display_data"
    }
   ],
   "source": [
    "fi[:30].plot('cols', 'imp', 'barh', figsize=(12,7), legend=False)"
   ]
  },
  {
   "cell_type": "code",
   "execution_count": 20,
   "metadata": {
    "colab": {
     "base_uri": "https://localhost:8080/",
     "height": 35
    },
    "colab_type": "code",
    "id": "AVJBEUpCrF9I",
    "outputId": "1ab8f385-5d4d-4f1d-cf10-a07a5b6a75b3"
   },
   "outputs": [
    {
     "data": {
      "text/plain": [
       "16"
      ]
     },
     "execution_count": 20,
     "metadata": {
      "tags": []
     },
     "output_type": "execute_result"
    }
   ],
   "source": [
    "cols_to_keep = fi[fi.imp>0.005].cols\n",
    "len(cols_to_keep)"
   ]
  },
  {
   "cell_type": "code",
   "execution_count": 0,
   "metadata": {
    "colab": {},
    "colab_type": "code",
    "id": "4hbiusejrwHk"
   },
   "outputs": [],
   "source": [
    "df_keep = df_trn[cols_to_keep].copy()\n",
    "X_train, X_valid = split_vals(df_keep, n_trn)"
   ]
  },
  {
   "cell_type": "code",
   "execution_count": 22,
   "metadata": {
    "colab": {
     "base_uri": "https://localhost:8080/",
     "height": 35
    },
    "colab_type": "code",
    "id": "_saITG7esD1K",
    "outputId": "492db931-13d7-437a-992d-9c24b477ee0b"
   },
   "outputs": [
    {
     "data": {
      "text/plain": [
       "((389125, 16), (389125,), (12000, 16), (12000,))"
      ]
     },
     "execution_count": 22,
     "metadata": {
      "tags": []
     },
     "output_type": "execute_result"
    }
   ],
   "source": [
    "X_train.shape, y_train.shape, X_valid.shape, y_valid.shape"
   ]
  },
  {
   "cell_type": "code",
   "execution_count": 23,
   "metadata": {
    "colab": {
     "base_uri": "https://localhost:8080/",
     "height": 107
    },
    "colab_type": "code",
    "id": "kIxstMmUsjYx",
    "outputId": "700106a6-59e6-4903-8f71-3bf32654c63a"
   },
   "outputs": [
    {
     "name": "stdout",
     "output_type": "stream",
     "text": [
      "training RMSE   : 0.2071602911796347\n",
      "validation RMSE : 0.2478256092482504\n",
      "training R2     : 0.9103092095180184\n",
      "validation R2   : 0.890316742788896\n",
      "oob : 0.8922065489647362\n"
     ]
    }
   ],
   "source": [
    "set_rf_samples(50000)\n",
    "m = RandomForestRegressor(n_estimators=50, min_samples_leaf=3, n_jobs=-1, oob_score=True)\n",
    "m.fit(X_train, y_train)\n",
    "print_score(m)"
   ]
  },
  {
   "cell_type": "markdown",
   "metadata": {
    "colab_type": "text",
    "id": "J-VNIol8YHye"
   },
   "source": [
    "# **ONE HOT ENCODING**"
   ]
  },
  {
   "cell_type": "code",
   "execution_count": 23,
   "metadata": {
    "colab": {
     "base_uri": "https://localhost:8080/",
     "height": 107
    },
    "colab_type": "code",
    "id": "I6QsDYZDsuJe",
    "outputId": "de3b7f7b-9434-4248-b0e8-60514bc0724a"
   },
   "outputs": [
    {
     "name": "stdout",
     "output_type": "stream",
     "text": [
      "training RMSE   : 0.20714773634231584\n",
      "validation RMSE : 0.25315796079130143\n",
      "training R2     : 0.9103200805122149\n",
      "validation R2   : 0.8855459535562825\n",
      "oob : 0.8916459304665308\n"
     ]
    }
   ],
   "source": [
    "df_trn2, y_trn, nas = proc_df(df_raw, 'SalePrice', max_n_cat=7)\n",
    "X_train, X_valid = split_vals(df_trn2, n_trn)\n",
    "set_rf_samples(50000)\n",
    "m = RandomForestRegressor(n_estimators=50, min_samples_leaf=3, n_jobs=-1, oob_score=True)\n",
    "m.fit(X_train, y_train)\n",
    "print_score(m)"
   ]
  },
  {
   "cell_type": "code",
   "execution_count": 24,
   "metadata": {
    "colab": {
     "base_uri": "https://localhost:8080/",
     "height": 466
    },
    "colab_type": "code",
    "id": "nGwNhx3UYZYg",
    "outputId": "bce98404-517a-4d18-c8b9-b53f29e8c5bb"
   },
   "outputs": [
    {
     "data": {
      "text/plain": [
       "<matplotlib.axes._subplots.AxesSubplot at 0x7fd2b0000668>"
      ]
     },
     "execution_count": 24,
     "metadata": {
      "tags": []
     },
     "output_type": "execute_result"
    },
    {
     "data": {
      "image/png": "[encoded data removed]",
      "text/plain": [
       "<Figure size 864x504 with 1 Axes>"
      ]
     },
     "metadata": {
      "tags": []
     },
     "output_type": "display_data"
    }
   ],
   "source": [
    "fi = rf_feat_importance(m, df_trn2)\n",
    "fi[:30].plot('cols', 'imp', 'barh', figsize=(12,7), legend=False)"
   ]
  },
  {
   "cell_type": "code",
   "execution_count": 0,
   "metadata": {
    "colab": {},
    "colab_type": "code",
    "id": "_kh7juqFY4wR"
   },
   "outputs": [],
   "source": []
  },
  {
   "cell_type": "markdown",
   "metadata": {
    "colab_type": "text",
    "id": "EdFB5llxeNHi"
   },
   "source": [
    "# Removing redundant features"
   ]
  },
  {
   "cell_type": "code",
   "execution_count": 0,
   "metadata": {
    "colab": {},
    "colab_type": "code",
    "id": "sjTrNSEsePwu"
   },
   "outputs": [],
   "source": [
    " from scipy.cluster import hierarchy as hc"
   ]
  },
  {
   "cell_type": "code",
   "execution_count": 28,
   "metadata": {
    "colab": {
     "base_uri": "https://localhost:8080/",
     "height": 612
    },
    "colab_type": "code",
    "id": "G0DvtogdeYb0",
    "outputId": "f9b50c2c-7885-4a1d-9a5c-f70f886106c1"
   },
   "outputs": [
    {
     "data": {
      "image/png": "[encoded data removed]",
      "text/plain": [
       "<Figure size 864x720 with 1 Axes>"
      ]
     },
     "metadata": {
      "tags": []
     },
     "output_type": "display_data"
    }
   ],
   "source": [
    "corr = np.round(scipy.stats.spearmanr(df_keep).correlation,4)\n",
    "corr_condensed = hc.distance.squareform(1-corr)\n",
    "z = hc.linkage(corr_condensed, method='average')\n",
    "fig = plt.figure(figsize=(12,10))\n",
    "dendrogram = hc.dendrogram(z, labels=df_keep.columns, orientation='left', leaf_font_size=16)\n",
    "plt.show()"
   ]
  },
  {
   "cell_type": "code",
   "execution_count": 0,
   "metadata": {
    "colab": {},
    "colab_type": "code",
    "id": "yzTDtu9ueZcr"
   },
   "outputs": [],
   "source": [
    "to_drop = ['fiBaseModel']\n",
    "df_keep.drop(to_drop, axis=1, inplace=True)\n",
    "X_train, X_valid = split_vals(df_keep, n_trn)\n",
    "\n"
   ]
  },
  {
   "cell_type": "code",
   "execution_count": 0,
   "metadata": {
    "colab": {},
    "colab_type": "code",
    "id": "JvuxiRAifoul"
   },
   "outputs": [],
   "source": [
    "reset_rf_samples()"
   ]
  },
  {
   "cell_type": "code",
   "execution_count": 32,
   "metadata": {
    "colab": {
     "base_uri": "https://localhost:8080/",
     "height": 107
    },
    "colab_type": "code",
    "id": "N0If2BT1fwEn",
    "outputId": "05dbf987-7d0a-4256-af37-4238bd43761c"
   },
   "outputs": [
    {
     "name": "stdout",
     "output_type": "stream",
     "text": [
      "training RMSE   : 0.11938766650484442\n",
      "validation RMSE : 0.23581926643032317\n",
      "training R2     : 0.9702111488998595\n",
      "validation R2   : 0.9006868991401805\n",
      "oob : 0.9058534321737536\n"
     ]
    }
   ],
   "source": [
    "m = RandomForestRegressor(n_estimators=50, min_samples_leaf=3, n_jobs=-1, oob_score=True)\n",
    "m.fit(X_train, y_train)\n",
    "print_score(m)"
   ]
  },
  {
   "cell_type": "markdown",
   "metadata": {
    "colab_type": "text",
    "id": "zponS_X_gCTt"
   },
   "source": [
    "# Tree interpreter"
   ]
  },
  {
   "cell_type": "code",
   "execution_count": 34,
   "metadata": {
    "colab": {
     "base_uri": "https://localhost:8080/",
     "height": 109
    },
    "colab_type": "code",
    "id": "5VqG0b9KhAK6",
    "outputId": "043738bc-1d04-4379-948c-358b16005b20"
   },
   "outputs": [
    {
     "name": "stdout",
     "output_type": "stream",
     "text": [
      "Collecting treeinterpreter\n",
      "  Downloading https://files.pythonhosted.org/packages/56/cb/78ec761719d2546d4bb75ec02773d01c0a0e8229fe3f8edf6a6ac961e24e/treeinterpreter-0.2.2-py2.py3-none-any.whl\n",
      "Installing collected packages: treeinterpreter\n",
      "Successfully installed treeinterpreter-0.2.2\n"
     ]
    }
   ],
   "source": [
    "!pip install treeinterpreter"
   ]
  },
  {
   "cell_type": "code",
   "execution_count": 0,
   "metadata": {
    "colab": {},
    "colab_type": "code",
    "id": "0D6yC_12f3Yx"
   },
   "outputs": [],
   "source": [
    "from treeinterpreter import treeinterpreter as ti"
   ]
  },
  {
   "cell_type": "code",
   "execution_count": 36,
   "metadata": {
    "colab": {
     "base_uri": "https://localhost:8080/",
     "height": 73
    },
    "colab_type": "code",
    "id": "N3gPRcrOgj2-",
    "outputId": "a9ed1ddf-cfcc-4ff8-931e-1af30277e8de"
   },
   "outputs": [
    {
     "data": {
      "text/plain": [
       "array([[         0,       1999,          5,         17,        665, 1284595200,          1,          0,\n",
       "              3232,    4364751,          0,    2300944,         16,         35,        259]])"
      ]
     },
     "execution_count": 36,
     "metadata": {
      "tags": []
     },
     "output_type": "execute_result"
    }
   ],
   "source": [
    "row = X_valid.values[None,0]; row"
   ]
  },
  {
   "cell_type": "code",
   "execution_count": 37,
   "metadata": {
    "colab": {
     "base_uri": "https://localhost:8080/",
     "height": 35
    },
    "colab_type": "code",
    "id": "SQvvRORrhJ5b",
    "outputId": "e3ebb741-9549-4ecd-d583-784707436335"
   },
   "outputs": [
    {
     "data": {
      "text/plain": [
       "((389125, 15), (389125,), (12000, 15), (12000,))"
      ]
     },
     "execution_count": 37,
     "metadata": {
      "tags": []
     },
     "output_type": "execute_result"
    }
   ],
   "source": [
    "X_train.shape, y_train.shape, X_valid.shape, y_valid.shape"
   ]
  },
  {
   "cell_type": "code",
   "execution_count": 40,
   "metadata": {
    "colab": {
     "base_uri": "https://localhost:8080/",
     "height": 35
    },
    "colab_type": "code",
    "id": "Y84sW-m4hRf8",
    "outputId": "695e82f5-3652-45e0-9af2-4c20cff88eed"
   },
   "outputs": [
    {
     "data": {
      "text/plain": [
       "(array([9.17165]), 10.105493490189598)"
      ]
     },
     "execution_count": 40,
     "metadata": {
      "tags": []
     },
     "output_type": "execute_result"
    }
   ],
   "source": [
    "prediction, bias, contributions = ti.predict(m, row)\n",
    "prediction[0], bias[0]"
   ]
  },
  {
   "cell_type": "code",
   "execution_count": 0,
   "metadata": {
    "colab": {},
    "colab_type": "code",
    "id": "cN9ax5Tei2Bt"
   },
   "outputs": [],
   "source": [
    "df_train, df_valid = split_vals(df_raw[df_keep.columns], n_trn)"
   ]
  },
  {
   "cell_type": "code",
   "execution_count": 44,
   "metadata": {
    "colab": {
     "base_uri": "https://localhost:8080/",
     "height": 323
    },
    "colab_type": "code",
    "id": "Ko3VBL9hhdEV",
    "outputId": "6852dceb-cd6e-4af6-c30c-090791c29f26"
   },
   "outputs": [
    {
     "data": {
      "text/plain": [
       "[('ProductSize', 'Mini', -0.8172210521138914),\n",
       " ('saleElapsed', 1284595200, -0.06958094011298666),\n",
       " ('fiProductClassDesc',\n",
       "  'Hydraulic Excavator, Track - 3.0 to 4.0 Metric Tons',\n",
       "  -0.06567516682906949),\n",
       " ('fiModelDesc', 'KX1212', -0.05382301647523836),\n",
       " ('SalesID', 4364751, -0.043925314166119306),\n",
       " ('ModelID', 665, -0.038182746949701744),\n",
       " ('saleDayofyear', 259, -0.013350530018350674),\n",
       " ('Enclosure', 'EROPS', -0.0037537633925948553),\n",
       " ('state', 'Ohio', -0.00025001260426876115),\n",
       " ('fiModelDescriptor', nan, 0.0),\n",
       " ('fiSecondaryDesc', nan, 0.004312792381031763),\n",
       " ('saleDay', 16, 0.007070642922204975),\n",
       " ('YearMade', 1999, 0.020915261518689974),\n",
       " ('MachineID', 2300944, 0.034088329163834495),\n",
       " ('Coupler_System', nan, 0.10553515682135994)]"
      ]
     },
     "execution_count": 44,
     "metadata": {
      "tags": []
     },
     "output_type": "execute_result"
    }
   ],
   "source": [
    "idxs = np.argsort(contributions[0])\n",
    "[o for o in zip(df_keep.columns[idxs], df_valid.iloc[0][idxs], contributions[0][idxs])]"
   ]
  },
  {
   "cell_type": "code",
   "execution_count": 45,
   "metadata": {
    "colab": {
     "base_uri": "https://localhost:8080/",
     "height": 107
    },
    "colab_type": "code",
    "id": "_NMEWU64mx5O",
    "outputId": "726fc2ac-8215-47ef-9e24-dfe5add71f95"
   },
   "outputs": [
    {
     "data": {
      "text/plain": [
       "Index(['Coupler_System', 'YearMade', 'ProductSize', 'fiProductClassDesc',\n",
       "       'ModelID', 'saleElapsed', 'Enclosure', 'fiSecondaryDesc', 'fiModelDesc',\n",
       "       'SalesID', 'fiModelDescriptor', 'MachineID', 'saleDay', 'state',\n",
       "       'saleDayofyear'],\n",
       "      dtype='object')"
      ]
     },
     "execution_count": 45,
     "metadata": {
      "tags": []
     },
     "output_type": "execute_result"
    }
   ],
   "source": [
    "X_train.columns"
   ]
  },
  {
   "cell_type": "markdown",
   "metadata": {
    "colab_type": "text",
    "id": "htTwobLomnFm"
   },
   "source": [
    "# final model"
   ]
  },
  {
   "cell_type": "code",
   "execution_count": 0,
   "metadata": {
    "colab": {},
    "colab_type": "code",
    "id": "0Y99rAoViTX2"
   },
   "outputs": [],
   "source": [
    "df_subs = df_keep.drop(['SalesID', 'MachineID', 'saleDayofyear'], axis=1)\n",
    "X_train, X_valid = split_vals(df_subs, n_trn)"
   ]
  },
  {
   "cell_type": "code",
   "execution_count": 47,
   "metadata": {
    "colab": {
     "base_uri": "https://localhost:8080/",
     "height": 89
    },
    "colab_type": "code",
    "id": "mD8YFAtlnR7K",
    "outputId": "c4b2ce55-c1e2-44e0-925c-14e8f57b959e"
   },
   "outputs": [
    {
     "data": {
      "text/plain": [
       "Index(['Coupler_System', 'YearMade', 'ProductSize', 'fiProductClassDesc',\n",
       "       'ModelID', 'saleElapsed', 'Enclosure', 'fiSecondaryDesc', 'fiModelDesc',\n",
       "       'fiModelDescriptor', 'saleDay', 'state'],\n",
       "      dtype='object')"
      ]
     },
     "execution_count": 47,
     "metadata": {
      "tags": []
     },
     "output_type": "execute_result"
    }
   ],
   "source": [
    "X_train.columns"
   ]
  },
  {
   "cell_type": "code",
   "execution_count": 48,
   "metadata": {
    "colab": {
     "base_uri": "https://localhost:8080/",
     "height": 107
    },
    "colab_type": "code",
    "id": "aswkJAifnVQS",
    "outputId": "02b3d589-8978-49bb-aa1d-e9dcfe05836d"
   },
   "outputs": [
    {
     "name": "stdout",
     "output_type": "stream",
     "text": [
      "training RMSE   : 0.0835269291990088\n",
      "validation RMSE : 0.22142685303308787\n",
      "training R2     : 0.9854189816503502\n",
      "validation R2   : 0.9124394361440524\n",
      "oob : 0.9098851765945277\n"
     ]
    }
   ],
   "source": [
    "reset_rf_samples()\n",
    "m = RandomForestRegressor(n_estimators=100,n_jobs=-1, oob_score=True)\n",
    "m.fit(X_train, y_train)\n",
    "print_score(m)"
   ]
  },
  {
   "cell_type": "code",
   "execution_count": 0,
   "metadata": {
    "colab": {},
    "colab_type": "code",
    "id": "HNR8G8Mcnv4T"
   },
   "outputs": [],
   "source": []
  }
 ],
 "metadata": {
  "colab": {
   "collapsed_sections": [],
   "name": "Blue Book for Bulldozers.ipynb",
   "provenance": [],
   "toc_visible": true
  },
  "kernelspec": {
   "display_name": "Python 3",
   "language": "python",
   "name": "python3"
  },
  "language_info": {
   "codemirror_mode": {
    "name": "ipython",
    "version": 3
   },
   "file_extension": ".py",
   "mimetype": "text/x-python",
   "name": "python",
   "nbconvert_exporter": "python",
   "pygments_lexer": "ipython3",
   "version": "3.6.7"
  }
 },
 "nbformat": 4,
 "nbformat_minor": 1
}
